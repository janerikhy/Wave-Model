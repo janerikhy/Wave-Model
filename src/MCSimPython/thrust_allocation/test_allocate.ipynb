{
 "cells": [
  {
   "cell_type": "code",
   "execution_count": 2,
   "metadata": {},
   "outputs": [],
   "source": [
    "import numpy as np"
   ]
  },
  {
   "cell_type": "code",
   "execution_count": 39,
   "metadata": {},
   "outputs": [],
   "source": [
    "from itertools import repeat\n",
    "\n",
    "l = ['a', 'c', 'e', 'b']\n",
    "l = [x for item in l for x in repeat(item, 2)]"
   ]
  },
  {
   "cell_type": "code",
   "execution_count": 50,
   "metadata": {},
   "outputs": [],
   "source": [
    "class Thruster:\n",
    "\n",
    "    def __init__(self, pos, K):\n",
    "        self._r = np.array(pos)\n",
    "        self._K = K\n",
    "        self._u = np.array([0, 0])\n",
    "\n",
    "    @property\n",
    "    def pos_x(self):\n",
    "        \"\"\"\n",
    "        x-position of thruster\n",
    "        \"\"\"\n",
    "        return self._r[0]\n",
    "\n",
    "    @property\n",
    "    def pos_y(self):\n",
    "        \"\"\"\n",
    "        y-position of thruster\n",
    "        \"\"\"\n",
    "        return self._r[1]\n",
    "    \n",
    "    @property\n",
    "    def K(self):\n",
    "        \"\"\"\n",
    "        thrust coefficient of thruster\n",
    "        \"\"\"\n",
    "        return self._K"
   ]
  },
  {
   "cell_type": "code",
   "execution_count": 51,
   "metadata": {},
   "outputs": [],
   "source": [
    "lx = [1.0678, 0.9344, 0.9344, -1.1644, -0.9911, -0.9911] \n",
    "ly = [0.0, 0.11, -0.11, 0.0, -0.1644, 0.1644]\n",
    "K = [0.3763, 0.3901, 0.3776, 0.5641, 0.4799, 0.5588] # Thrust koefficient"
   ]
  },
  {
   "cell_type": "code",
   "execution_count": 163,
   "metadata": {},
   "outputs": [],
   "source": [
    "from abc import ABC, abstractmethod\n",
    "DOFS = 3\n",
    "\n",
    "class AllocationError(Exception):\n",
    "    \"\"\"\n",
    "    AllocationError class\n",
    "    \"\"\"\n",
    "\n",
    "class AllocatorCSAD(ABC):\n",
    "    \"\"\"\n",
    "    Abstract base class for allocation problem\n",
    "    formulations.\n",
    "    \"\"\"\n",
    "\n",
    "    def __init__(self):\n",
    "        self._thrusters = []\n",
    "\n",
    "    @property\n",
    "    def n_thrusters(self):\n",
    "        \"\"\"\n",
    "        Number of thrusters assigned to this\n",
    "         allocation problem.\n",
    "        \"\"\"\n",
    "        return len(self._thrusters)\n",
    "    \n",
    "    @property\n",
    "    def n_problem(self):\n",
    "        \"\"\"\n",
    "        Number of unknown variables to be allocated\n",
    "         in the original (non-relaxed) problem.\n",
    "        \"\"\"\n",
    "        return 2 * self.n_thrusters\n",
    "\n",
    "    def add_thruster(self, thruster):\n",
    "        \"\"\"\n",
    "        Add a thruster to the allocation problem.\n",
    "        \"\"\"\n",
    "        if isinstance(thruster, Thruster):\n",
    "            self._thrusters.append(thruster)\n",
    "        else:\n",
    "            raise TypeError(\"Thruster is not of proper type!\")\n",
    "    \n",
    "    \n",
    "    def extended_allocation_problem(self):\n",
    "        \"\"\"\n",
    "        Assemble allocation problem into matrix form\n",
    "        \"\"\"\n",
    "\n",
    "        T_e = np.zeros((DOFS, self.n_problem))\n",
    "        T_e[0, ::2] = 1\n",
    "        T_e[1, 1::2] = 1\n",
    "        T_e[2, ::2] = [-thruster.pos_y for thruster in self._thrusters]\n",
    "        T_e[2, 1::2] = [thruster.pos_x for thruster in self._thrusters]\n",
    "        \n",
    "        K_lst = [thruster._K for thruster in self._thrusters]\n",
    "\n",
    "        K_vec = [x for item in K_lst for x in repeat(item, 2)]\n",
    "\n",
    "        K_e = np.diag(K_vec)\n",
    "\n",
    "\n",
    "        return T_e, K_e\n",
    "\n",
    "\n",
    "    def allocate(self, tau_d):\n",
    "        \"\"\"\n",
    "        Allocate global thrust vector to available thrusters. \n",
    "        \"\"\"\n",
    "        if self.n_thrusters == 0:\n",
    "            raise AllocationError(\n",
    "                \"\"\"At least one thruster must be added\n",
    "            to the\n",
    "             allocator-object before attempting an allocation!\"\"\"\n",
    "            )\n",
    "        \n",
    "        T_e, K_e = self.extended_allocation_problem()\n",
    "\n",
    "        T_e_pseudo = np.transpose(T_e) @ (np.linalg.inv(T_e @ np.transpose(T_e)))\n",
    "\n",
    "        u_e = np.linalg.inv(K_e) @ T_e_pseudo @ tau_d\n",
    "\n",
    "        print(u_e)\n",
    "        u = np.zeros(6)\n",
    "        alpha = np.zeros(6)\n",
    "\n",
    "        for i in range(self.n_thrusters):\n",
    "            u[i] = np.sqrt(u_e[i*2]**2 + u_e[i*2+1]**2)\n",
    "            alpha[i] = np.arctan(u_e[i*2+1]/u_e[i*2])\n",
    "        \n",
    "        return u, alpha\n"
   ]
  },
  {
   "cell_type": "code",
   "execution_count": 164,
   "metadata": {},
   "outputs": [],
   "source": [
    "al = AllocatorCSAD()\n",
    "for i in range(6):\n",
    "    al.add_thruster(Thruster((lx[i], ly[i]), K[i]))"
   ]
  },
  {
   "cell_type": "code",
   "execution_count": 165,
   "metadata": {},
   "outputs": [
    {
     "name": "stdout",
     "output_type": "stream",
     "text": [
      "[4.42909026 3.22990888 4.17471299 2.99717075 4.5147717  3.09638853\n",
      " 2.95455888 0.78361282 3.59163467 1.0462145  2.88065113 0.89849381]\n",
      "0\n",
      "1\n",
      "4.429090264859598\n",
      "3.229908880664728\n",
      "5.481710677486631\n",
      "1\n",
      "3\n",
      "4.174712994011355\n",
      "2.997170745538362\n",
      "5.139188755073921\n",
      "2\n",
      "5\n",
      "4.514771701190423\n",
      "3.0963885271041187\n",
      "5.474558011808066\n",
      "3\n",
      "7\n",
      "2.9545588843585646\n",
      "0.7836128191178675\n",
      "3.056708565013678\n",
      "4\n",
      "9\n",
      "3.591634672520406\n",
      "1.0462145043472013\n",
      "3.740909569871641\n",
      "5\n",
      "11\n",
      "2.8806511345576067\n",
      "0.8984938092988938\n",
      "3.017522507683491\n"
     ]
    },
    {
     "data": {
      "text/plain": [
       "(array([5.48171068, 5.13918876, 5.47455801, 3.05670857, 3.74090957,\n",
       "        3.01752251]),\n",
       " array([0.63008755, 0.62266145, 0.60115587, 0.25925277, 0.2834488 ,\n",
       "        0.30234408]))"
      ]
     },
     "execution_count": 165,
     "metadata": {},
     "output_type": "execute_result"
    }
   ],
   "source": [
    "al.allocate(np.array([10, 5, 2]))"
   ]
  },
  {
   "cell_type": "code",
   "execution_count": 4,
   "metadata": {},
   "outputs": [
    {
     "data": {
      "text/plain": [
       "3"
      ]
     },
     "execution_count": 4,
     "metadata": {},
     "output_type": "execute_result"
    }
   ],
   "source": [
    "np.clip(4, 1, 3)\n"
   ]
  }
 ],
 "metadata": {
  "kernelspec": {
   "display_name": "venv",
   "language": "python",
   "name": "python3"
  },
  "language_info": {
   "codemirror_mode": {
    "name": "ipython",
    "version": 3
   },
   "file_extension": ".py",
   "mimetype": "text/x-python",
   "name": "python",
   "nbconvert_exporter": "python",
   "pygments_lexer": "ipython3",
   "version": "3.10.8"
  },
  "orig_nbformat": 4,
  "vscode": {
   "interpreter": {
    "hash": "10ac628d92894cf4c8e5b5bdb18f15e4ad57e24485599d871b2454067713cd03"
   }
  }
 },
 "nbformat": 4,
 "nbformat_minor": 2
}

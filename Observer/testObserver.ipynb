{
 "cells": [
  {
   "cell_type": "code",
   "execution_count": 2,
   "metadata": {},
   "outputs": [
    {
     "name": "stdout",
     "output_type": "stream",
     "text": [
      "[0.]\n"
     ]
    }
   ],
   "source": [
    "import numpy as np\n",
    "from Observer.EKF import EKF\n",
    "\n",
    "KalmanFilter = EKF()\n",
    "\n",
    "print(KalmanFilter._xhat)\n"
   ]
  },
  {
   "cell_type": "code",
   "execution_count": 17,
   "metadata": {},
   "outputs": [],
   "source": [
    "# Create fictional system \n",
    "A = np.array([[0,1,0],\n",
    "            [-1,-2,-0.5],\n",
    "            [0,0,0]])\n",
    "B = np.array([0,0.5,0]).T\n",
    "C = np.array([1,0,0])\n",
    "D = 0\n",
    "E = np.array([0,0,1]).T\n",
    "\n"
   ]
  }
 ],
 "metadata": {
  "kernelspec": {
   "display_name": "venvJEH",
   "language": "python",
   "name": "python3"
  },
  "language_info": {
   "codemirror_mode": {
    "name": "ipython",
    "version": 3
   },
   "file_extension": ".py",
   "mimetype": "text/x-python",
   "name": "python",
   "nbconvert_exporter": "python",
   "pygments_lexer": "ipython3",
   "version": "3.10.7"
  },
  "orig_nbformat": 4,
  "vscode": {
   "interpreter": {
    "hash": "218b935e03ddf4eaeaf43dea63949a669562f2edd11d61154469858b0e4e788c"
   }
  }
 },
 "nbformat": 4,
 "nbformat_minor": 2
}

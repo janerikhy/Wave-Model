{
 "cells": [
  {
   "cell_type": "code",
   "execution_count": 2,
   "metadata": {},
   "outputs": [
    {
     "ename": "ValueError",
     "evalue": "cannot copy from array of size 6 into an array of size 90",
     "output_type": "error",
     "traceback": [
      "\u001b[1;31m---------------------------------------------------------------------------\u001b[0m",
      "\u001b[1;31mValueError\u001b[0m                                Traceback (most recent call last)",
      "Cell \u001b[1;32mIn [2], line 33\u001b[0m\n\u001b[0;32m     30\u001b[0m system\u001b[39m.\u001b[39mintegrate()\n\u001b[0;32m     32\u001b[0m \u001b[39m# Observer\u001b[39;00m\n\u001b[1;32m---> 33\u001b[0m xdot \u001b[39m=\u001b[39m KalmanFilter\u001b[39m.\u001b[39;49mstate_function(x, np\u001b[39m.\u001b[39;49marray([\u001b[39m100\u001b[39;49m,\u001b[39m0\u001b[39;49m,\u001b[39m0\u001b[39;49m]), np\u001b[39m.\u001b[39;49mzeros(\u001b[39m6\u001b[39;49m))\n\u001b[0;32m     34\u001b[0m x \u001b[39m=\u001b[39m x \u001b[39m+\u001b[39m KalmanFilter\u001b[39m.\u001b[39m_dt \u001b[39m*\u001b[39m xdot\n\u001b[0;32m     35\u001b[0m \u001b[39m# Save for storage\u001b[39;00m\n",
      "File \u001b[1;32m~\\OneDrive\\Dokumenter\\NTNU\\9. semester\\Prosjektoppgave\\Simuleringsmodell_med_Jan\\Wave-Model\\Observer\\EKF.py:102\u001b[0m, in \u001b[0;36mEKF.state_function\u001b[1;34m(self, x, tau, noise)\u001b[0m\n\u001b[0;32m     93\u001b[0m nu \u001b[39m=\u001b[39m x[\u001b[39m12\u001b[39m:\u001b[39m15\u001b[39m]\n\u001b[0;32m     95\u001b[0m Ax \u001b[39m=\u001b[39m np\u001b[39m.\u001b[39marray(\n\u001b[0;32m     96\u001b[0m     [\u001b[39mself\u001b[39m\u001b[39m.\u001b[39m_Aw\u001b[39m@xi\u001b[39m,\n\u001b[0;32m     97\u001b[0m     Rz(psi)\u001b[39m@nu\u001b[39m,\n\u001b[1;32m   (...)\u001b[0m\n\u001b[0;32m    100\u001b[0m     ]\n\u001b[0;32m    101\u001b[0m )\n\u001b[1;32m--> 102\u001b[0m Ax \u001b[39m=\u001b[39m np\u001b[39m.\u001b[39;49mconcatenate(Ax, axis\u001b[39m=\u001b[39;49m\u001b[39mNone\u001b[39;49;00m)\n\u001b[0;32m    103\u001b[0m f \u001b[39m=\u001b[39m Ax \u001b[39m+\u001b[39m \u001b[39mself\u001b[39m\u001b[39m.\u001b[39m_B\u001b[39m@tau\u001b[39m \u001b[39m+\u001b[39m \u001b[39mself\u001b[39m\u001b[39m.\u001b[39m_E\u001b[39m@noise\u001b[39m\n\u001b[0;32m    104\u001b[0m \u001b[39mreturn\u001b[39;00m f\n",
      "File \u001b[1;32m<__array_function__ internals>:180\u001b[0m, in \u001b[0;36mconcatenate\u001b[1;34m(*args, **kwargs)\u001b[0m\n",
      "\u001b[1;31mValueError\u001b[0m: cannot copy from array of size 6 into an array of size 90"
     ]
    }
   ],
   "source": [
    "import numpy as np\n",
    "from simulator.csad import CSAD_DP_6DOF\n",
    "from Observer.EKF import EKF\n",
    "\n",
    "\n",
    "dt = 0.01\n",
    "N = 1000\n",
    "\n",
    "system = CSAD_DP_6DOF(dt)\n",
    "KalmanFilter = EKF(dt, system._Minv, system._D)\n",
    "\n",
    "\n",
    "storage_state = np.zeros((N,7))\n",
    "storage_observer = np.zeros((N, 3))\n",
    "\n",
    "x = np.zeros(15)\n",
    "\n",
    "for i in range(N):\n",
    "    # time\n",
    "    t = (i+1)*system._dt\n",
    "\n",
    "    # Thruster forces\n",
    "    tau = np.array([100,0,0,0,0,0])\n",
    "\n",
    "    # Env. forces\n",
    "    # =0\n",
    "\n",
    "    # Calculate x_dot and integrate\n",
    "    system.x_dot(0,0,tau)\n",
    "    system.integrate()\n",
    "\n",
    "    # Observer\n",
    "    xdot = KalmanFilter.state_function(x, np.array([100,0,0]), np.zeros(6))\n",
    "    x = x + KalmanFilter._dt * xdot\n",
    "    # Save for storage\n",
    "    storage_state[i] = np.concatenate([t, system.get_eta()], axis=None)\n",
    "\n",
    "\n",
    "#print(KalmanFilter._E)\n",
    "\n",
    "#print(KalmanFilter._E[[0,4],:][:,[0,4]])\n",
    "'''\n",
    "print(KalmanFilter._E)\n",
    "print(KalmanFilter._H)\n",
    "print(KalmanFilter._B.shape)\n",
    "'''\n",
    "#print(KalmanFilter._D)"
   ]
  },
  {
   "cell_type": "code",
   "execution_count": null,
   "metadata": {},
   "outputs": [],
   "source": []
  }
 ],
 "metadata": {
  "kernelspec": {
   "display_name": "venvJEH",
   "language": "python",
   "name": "python3"
  },
  "language_info": {
   "codemirror_mode": {
    "name": "ipython",
    "version": 3
   },
   "file_extension": ".py",
   "mimetype": "text/x-python",
   "name": "python",
   "nbconvert_exporter": "python",
   "pygments_lexer": "ipython3",
   "version": "3.10.7"
  },
  "orig_nbformat": 4,
  "vscode": {
   "interpreter": {
    "hash": "218b935e03ddf4eaeaf43dea63949a669562f2edd11d61154469858b0e4e788c"
   }
  }
 },
 "nbformat": 4,
 "nbformat_minor": 2
}

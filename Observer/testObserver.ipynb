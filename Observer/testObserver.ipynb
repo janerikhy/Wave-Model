{
 "cells": [
  {
   "cell_type": "code",
   "execution_count": 2,
   "metadata": {},
   "outputs": [],
   "source": [
    "import numpy as np\n",
    "from simulator.csad import CSAD_DP_6DOF\n",
    "from Observer.EKF import EKF\n",
    "\n",
    "# Create vessel\n",
    "\n",
    "\n",
    "\n",
    "\n",
    "\n"
   ]
  },
  {
   "cell_type": "code",
   "execution_count": 3,
   "metadata": {},
   "outputs": [],
   "source": [
    "# Create fictional system \n",
    "A = np.array([[0,1,0],\n",
    "            [-1,-2,-0.5],\n",
    "            [0,0,0]])\n",
    "B = np.array([0,0.5,0]).T\n",
    "C = np.array([1,0,0])\n",
    "D = 0\n",
    "E = np.array([0,0,1]).T\n",
    "\n"
   ]
  },
  {
   "cell_type": "code",
   "execution_count": 39,
   "metadata": {},
   "outputs": [
    {
     "name": "stdout",
     "output_type": "stream",
     "text": [
      "[[1.00000000e-02 0.00000000e+00 0.00000000e+00 ... 0.00000000e+00\n",
      "  0.00000000e+00 0.00000000e+00]\n",
      " [2.00000000e-02 6.91131744e-05 0.00000000e+00 ... 0.00000000e+00\n",
      "  0.00000000e+00 0.00000000e+00]\n",
      " [3.00000000e-02 2.07114902e-04 0.00000000e+00 ... 0.00000000e+00\n",
      "  0.00000000e+00 0.00000000e+00]\n",
      " ...\n",
      " [9.99800000e+01 2.06067193e+02 0.00000000e+00 ... 0.00000000e+00\n",
      "  0.00000000e+00 0.00000000e+00]\n",
      " [9.99900000e+01 2.06088458e+02 0.00000000e+00 ... 0.00000000e+00\n",
      "  0.00000000e+00 0.00000000e+00]\n",
      " [1.00000000e+02 2.06109723e+02 0.00000000e+00 ... 0.00000000e+00\n",
      "  0.00000000e+00 0.00000000e+00]]\n"
     ]
    }
   ],
   "source": [
    "dt = 0.01\n",
    "N = 10000\n",
    "\n",
    "system = CSAD_DP_6DOF(dt)\n",
    "KalmanFilter = EKF(dt)\n",
    "\n",
    "\n",
    "storage_state = np.zeros((N,7))\n",
    "storage_observer = np.zeros(N, 3)\n",
    "\n",
    "for i in range(N):\n",
    "    # time\n",
    "    t = (i+1)*system._dt\n",
    "\n",
    "    # Thruster forces\n",
    "    tau = np.array([100,0,0,0,0,0])\n",
    "\n",
    "    # Env. forces\n",
    "    # =0\n",
    "\n",
    "    # Calculate x_dot and integrate\n",
    "    system.x_dot(0,0,tau)\n",
    "    system.integrate()\n",
    "\n",
    "    # Observer\n",
    "\n",
    "\n",
    "    # Save for storage\n",
    "    storage_state[i] = np.concatenate([t, system.get_eta()], axis=None)\n",
    "\n",
    "\n",
    "print(storage)\n",
    "\n"
   ]
  }
 ],
 "metadata": {
  "kernelspec": {
   "display_name": "venvJEH",
   "language": "python",
   "name": "python3"
  },
  "language_info": {
   "codemirror_mode": {
    "name": "ipython",
    "version": 3
   },
   "file_extension": ".py",
   "mimetype": "text/x-python",
   "name": "python",
   "nbconvert_exporter": "python",
   "pygments_lexer": "ipython3",
   "version": "3.10.7"
  },
  "orig_nbformat": 4,
  "vscode": {
   "interpreter": {
    "hash": "218b935e03ddf4eaeaf43dea63949a669562f2edd11d61154469858b0e4e788c"
   }
  }
 },
 "nbformat": 4,
 "nbformat_minor": 2
}

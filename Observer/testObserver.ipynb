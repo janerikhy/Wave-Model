{
 "cells": [
  {
   "cell_type": "code",
   "execution_count": 18,
   "metadata": {},
   "outputs": [
    {
     "name": "stderr",
     "output_type": "stream",
     "text": [
      "C:\\Users\\Haral\\OneDrive\\Dokumenter\\NTNU\\9. semester\\Prosjektoppgave\\Simuleringsmodell_med_Jan\\Wave-Model\\Observer\\EKF.py:95: VisibleDeprecationWarning: Creating an ndarray from ragged nested sequences (which is a list-or-tuple of lists-or-tuples-or ndarrays with different lengths or shapes) is deprecated. If you meant to do this, you must specify 'dtype=object' when creating the ndarray.\n",
      "  Ax1 = np.array(\n"
     ]
    },
    {
     "name": "stdout",
     "output_type": "stream",
     "text": [
      "[[ 0.00691132  0.          0.        ]\n",
      " [ 0.          0.00382175 -0.00024328]\n",
      " [ 0.         -0.00024328  0.00878788]]\n",
      "[[144.69021416   0.           0.           0.           0.\n",
      "    0.        ]\n",
      " [  0.         262.12245      0.          -0.81381512   0.\n",
      "    7.256382  ]\n",
      " [  0.           0.         320.83431      0.          24.88125\n",
      "    0.        ]\n",
      " [  0.          -0.81381512   0.           4.5040458    0.\n",
      "   -0.67311978]\n",
      " [  0.           0.          24.88125      0.         146.402805\n",
      "    0.        ]\n",
      " [  0.           7.256382     0.          -0.67311978   0.\n",
      "  113.993996  ]]\n",
      "breaknjnj\n",
      "[0.00000000e+00 6.91131744e-05 2.07114902e-04 4.13781292e-04\n",
      " 6.88889180e-04 1.03221613e-03 1.44354042e-03 1.92264107e-03\n",
      " 2.46929779e-03 3.08329102e-03 3.76440192e-03 4.51241235e-03\n",
      " 5.32710489e-03 6.20826281e-03 7.15567010e-03 8.16911145e-03\n",
      " 9.24837223e-03 1.03932385e-02 1.16034972e-02 1.28789356e-02\n",
      " 1.42193419e-02 1.56245050e-02 1.70942144e-02 1.86282604e-02\n",
      " 2.02264339e-02 2.18885264e-02 2.36143301e-02 2.54036382e-02\n",
      " 2.72562440e-02 2.91719420e-02 3.11505270e-02 3.31917947e-02\n",
      " 3.52955413e-02 3.74615639e-02 3.96896599e-02 4.19796278e-02\n",
      " 4.43312662e-02 4.67443749e-02 4.92187541e-02 5.17542046e-02\n",
      " 5.43505279e-02 5.70075263e-02 5.97250024e-02 6.25027598e-02\n",
      " 6.53406025e-02 6.82383353e-02 7.11957634e-02 7.42126930e-02\n",
      " 7.72889306e-02 8.04242834e-02 8.36185593e-02 8.68715669e-02\n",
      " 9.01831152e-02 9.35530140e-02 9.69810737e-02 1.00467105e-01\n",
      " 1.04010920e-01 1.07612330e-01 1.11271149e-01 1.14987190e-01\n",
      " 1.18760267e-01 1.22590194e-01 1.26476787e-01 1.30419861e-01\n",
      " 1.34419233e-01 1.38474721e-01 1.42586141e-01 1.46753312e-01\n",
      " 1.50976052e-01 1.55254182e-01 1.59587521e-01 1.63975889e-01\n",
      " 1.68419108e-01 1.72916999e-01 1.77469386e-01 1.82076090e-01\n",
      " 1.86736935e-01 1.91451746e-01 1.96220346e-01 2.01042561e-01\n",
      " 2.05918217e-01 2.10847140e-01 2.15829157e-01 2.20864096e-01\n",
      " 2.25951783e-01 2.31092049e-01 2.36284722e-01 2.41529631e-01\n",
      " 2.46826608e-01 2.52175482e-01 2.57576085e-01 2.63028250e-01\n",
      " 2.68531807e-01 2.74086591e-01 2.79692435e-01 2.85349173e-01\n",
      " 2.91056639e-01 2.96814669e-01 3.02623098e-01 3.08481763e-01]\n"
     ]
    }
   ],
   "source": [
    "import numpy as np\n",
    "from simulator.csad import CSAD_DP_6DOF\n",
    "from Observer.EKF import EKF\n",
    "\n",
    "\n",
    "dt = 0.01\n",
    "N = 100\n",
    "\n",
    "system = CSAD_DP_6DOF(dt)\n",
    "KalmanFilter = EKF(dt, system._M, system._D)\n",
    "\n",
    "\n",
    "storage_state = np.zeros((N,7))\n",
    "storage_observer = np.zeros((N, 15))\n",
    "\n",
    "x = np.zeros(15)\n",
    "\n",
    "for i in range(N):\n",
    "    # time\n",
    "    t = (i+1)*system._dt\n",
    "\n",
    "    # Thruster forces\n",
    "    tau = np.array([100,0,0,0,0,0])\n",
    "\n",
    "    # Env. forces\n",
    "    # =0\n",
    "\n",
    "    # Calculate x_dot and integrate\n",
    "    system.x_dot(0,0,tau)\n",
    "    system.integrate()\n",
    "\n",
    "    # Observer\n",
    "    xdot = KalmanFilter.state_function(x, np.array([100,0,0]), np.zeros(6))\n",
    "    x = x + KalmanFilter._dt * xdot\n",
    "    # Save for storage\n",
    "    storage_state[i] = np.concatenate([t, system.get_eta()], axis=None)\n",
    "    storage_observer[i] = x\n",
    "\n",
    "print(KalmanFilter._Minv)\n",
    "print(system._M)\n",
    "#print(storage_state[:,1])\n",
    "print('breaknjnj')\n",
    "print(storage_observer[:,6])"
   ]
  }
 ],
 "metadata": {
  "kernelspec": {
   "display_name": "venvJEH",
   "language": "python",
   "name": "python3"
  },
  "language_info": {
   "codemirror_mode": {
    "name": "ipython",
    "version": 3
   },
   "file_extension": ".py",
   "mimetype": "text/x-python",
   "name": "python",
   "nbconvert_exporter": "python",
   "pygments_lexer": "ipython3",
   "version": "3.10.7 (tags/v3.10.7:6cc6b13, Sep  5 2022, 14:08:36) [MSC v.1933 64 bit (AMD64)]"
  },
  "orig_nbformat": 4,
  "vscode": {
   "interpreter": {
    "hash": "218b935e03ddf4eaeaf43dea63949a669562f2edd11d61154469858b0e4e788c"
   }
  }
 },
 "nbformat": 4,
 "nbformat_minor": 2
}

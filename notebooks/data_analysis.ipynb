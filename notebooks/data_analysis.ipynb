{
 "cells": [
  {
   "cell_type": "code",
   "execution_count": 1,
   "metadata": {},
   "outputs": [],
   "source": [
    "from scipy.io import loadmat\n",
    "import numpy as np\n",
    "import matplotlib.pyplot as plt\n",
    "\n",
    "import sys\n",
    "import os\n",
    "\n",
    "cwd = os.getcwd()\n",
    "\n",
    "basedir = os.path.abspath(os.path.join(cwd, os.pardir))\n",
    "if basedir not in sys.path:\n",
    "    sys.path.insert(0, basedir)\n",
    "\n",
    "\n",
    "plt.rcParams.update({\n",
    "    'figure.figsize': (16, 4),\n",
    "    'font.size': 16,\n",
    "    'lines.linewidth': 1.5\n",
    "})\n",
    "\n",
    "datadir = os.path.join(basedir, 'vessel_data/CSAD')\n",
    "files = os.listdir(datadir)\n",
    "filepaths = [os.path.join(datadir, f) for f in files if f.endswith('.mat')]\n",
    "\n",
    "# Note that the vesselABC file does not seem to be needed. Don't know what it has been used for. \n"
   ]
  },
  {
   "cell_type": "code",
   "execution_count": 2,
   "metadata": {},
   "outputs": [],
   "source": [
    "data = {files[i].split('.mat')[0]: loadmat(filepaths[i]) for i in range(len(filepaths))}"
   ]
  },
  {
   "cell_type": "code",
   "execution_count": 3,
   "metadata": {},
   "outputs": [],
   "source": [
    "QTF_diag_surge = np.asarray(data['CSAD_model']['vessel']['driftfrc'][0, 0]['amp'][0, 0][0, 0][:, :, 0])\n",
    "QTF_diag_sway = np.asarray(data['CSAD_model']['vessel']['driftfrc'][0, 0]['amp'][0, 0][0, 1][:, :, 0])\n",
    "QTF_diag_heave = np.asarray(data['CSAD_model']['vessel']['driftfrc'][0, 0]['amp'][0, 0][0, 2][:, :, 0])\n",
    "QTF_diag_roll = np.asarray(data['CSAD_model']['vessel']['driftfrc'][0, 0]['amp'][0, 0][0, 3][:, :, 0])\n",
    "QTF_diag_pitch = np.asarray(data['CSAD_model']['vessel']['driftfrc'][0, 0]['amp'][0, 0][0, 4][:, :, 0])\n",
    "QTF_diag_yaw = np.asarray(data['CSAD_model']['vessel']['driftfrc'][0, 0]['amp'][0, 0][0, 5][:, :, 0])"
   ]
  },
  {
   "cell_type": "code",
   "execution_count": 4,
   "metadata": {},
   "outputs": [],
   "source": [
    "QTF_diag_surge_beta0 = QTF_diag_surge[:, 0].copy()\n",
    "QTF_diag_surge_beta36 = QTF_diag_surge[:, 35].copy()"
   ]
  },
  {
   "cell_type": "code",
   "execution_count": 5,
   "metadata": {},
   "outputs": [
    {
     "data": {
      "text/plain": [
       "(47, 36)"
      ]
     },
     "execution_count": 5,
     "metadata": {},
     "output_type": "execute_result"
    }
   ],
   "source": [
    "data['CSAD_model']['vessel']['driftfrc'][0,0]['amp'][0,0][0, 1][:, :, 0].shape"
   ]
  },
  {
   "cell_type": "code",
   "execution_count": 6,
   "metadata": {},
   "outputs": [],
   "source": [
    "freqs = np.asarray(data['CSAD_model']['vessel']['driftfrc'][0, 0]['w'][0,0][0, :])\n",
    "headings = np.asarray(data['CSAD_model']['vessel']['headings'][0, 0][0, :])"
   ]
  },
  {
   "cell_type": "code",
   "execution_count": 7,
   "metadata": {},
   "outputs": [
    {
     "data": {
      "text/plain": [
       "10.0"
      ]
     },
     "execution_count": 7,
     "metadata": {},
     "output_type": "execute_result"
    }
   ],
   "source": [
    "# Test out algorithm used by Brørby for selecting angle. \n",
    "np.degrees(headings[np.argmin(np.abs(headings - np.deg2rad(15.)))])"
   ]
  },
  {
   "cell_type": "code",
   "execution_count": 8,
   "metadata": {},
   "outputs": [],
   "source": [
    "from waves.wave_loads import WaveLoad"
   ]
  },
  {
   "cell_type": "code",
   "execution_count": 9,
   "metadata": {},
   "outputs": [],
   "source": [
    "wave_freqs = np.linspace(0.5, 7, 50)\n",
    "\n",
    "waveload = WaveLoad(np.linspace(0, 2.5, len(wave_freqs)), wave_freqs, np.random.uniform(0, 6.28, size=len(freqs)), headings, 0)\n",
    "\n",
    "qtf_diag_surge = np.asarray(data['CSAD_model']['vessel']['driftfrc'][0, 0]['amp'][0, 0][0, 0][:, :, :])"
   ]
  },
  {
   "cell_type": "code",
   "execution_count": 10,
   "metadata": {},
   "outputs": [
    {
     "name": "stdout",
     "output_type": "stream",
     "text": [
      "Execution time of _full_qtf: 0.0189\n"
     ]
    }
   ],
   "source": [
    "full_qtf_surge_heading0 = waveload._full_qtf(headings, freqs, qtf_diag_surge, 0, method=\"\")\n"
   ]
  },
  {
   "cell_type": "code",
   "execution_count": 11,
   "metadata": {},
   "outputs": [
    {
     "name": "stdout",
     "output_type": "stream",
     "text": [
      "[[1.74824926e-03 2.79718314e-03 4.54245880e-03 ... 2.02929098e+00\n",
      "  1.32182174e+00 1.32182174e+00]\n",
      " [2.79718314e-03 4.47546796e-03 7.26789337e-03 ... 3.24684739e+00\n",
      "  2.11490294e+00 2.11490294e+00]\n",
      " [4.54245880e-03 7.26789337e-03 1.18026259e-02 ... 5.27268675e+00\n",
      "  3.43447639e+00 3.43447639e+00]\n",
      " ...\n",
      " [2.02929098e+00 3.24684739e+00 5.27268675e+00 ... 2.35551188e+03\n",
      "  1.53431264e+03 1.53431264e+03]\n",
      " [1.32182174e+00 2.11490294e+00 3.43447639e+00 ... 1.53431264e+03\n",
      "  9.99407097e+02 9.99407097e+02]\n",
      " [1.32182174e+00 2.11490294e+00 3.43447639e+00 ... 1.53431264e+03\n",
      "  9.99407097e+02 9.99407097e+02]]\n"
     ]
    }
   ],
   "source": [
    "print(full_qtf_surge_heading0)"
   ]
  },
  {
   "cell_type": "code",
   "execution_count": 12,
   "metadata": {},
   "outputs": [
    {
     "data": {
      "text/plain": [
       "array([4.86661285e-05, 1.01960638e-04, 2.52622544e-04, 3.11623371e-04,\n",
       "       3.89088820e-04, 4.91090980e-04, 6.29965484e-04, 7.17648219e-04,\n",
       "       8.21388885e-04, 9.44606830e-04, 1.09291433e-03, 1.26851816e-03,\n",
       "       1.48405153e-03, 1.74824926e-03, 2.07429047e-03, 2.48005235e-03,\n",
       "       2.98809474e-03, 3.64012335e-03, 4.47546796e-03, 5.59009633e-03,\n",
       "       7.04724367e-03, 9.04477379e-03, 1.18026259e-02, 1.57227635e-02,\n",
       "       2.14435362e-02, 3.01072378e-02, 4.37648608e-02, 6.64250444e-02,\n",
       "       1.06324207e-01, 1.82583235e-01, 3.45914483e-01, 7.55869233e-01,\n",
       "       2.06969239e+00, 2.63168924e+00, 4.12212272e+00, 6.84665024e+00,\n",
       "       1.20650551e+01, 2.28807072e+01, 4.64502815e+01, 1.01643078e+02,\n",
       "       2.34535457e+02, 5.54521501e+02, 1.23450924e+03, 2.06632456e+03,\n",
       "       2.35551188e+03, 9.99407097e+02, 1.78730223e+02])"
      ]
     },
     "execution_count": 12,
     "metadata": {},
     "output_type": "execute_result"
    }
   ],
   "source": [
    "QTF_diag_surge_beta0"
   ]
  },
  {
   "cell_type": "code",
   "execution_count": 13,
   "metadata": {},
   "outputs": [
    {
     "data": {
      "text/plain": [
       "array([[1., 1.],\n",
       "       [1., 1.]])"
      ]
     },
     "execution_count": 13,
     "metadata": {},
     "output_type": "execute_result"
    }
   ],
   "source": [
    "m = np.array([\n",
    "    [1, 0],\n",
    "    [0, 0]\n",
    "])\n",
    "\n",
    "t = 0\n",
    "\n",
    "m = m*t\n",
    "\n",
    "np.exp(m)"
   ]
  },
  {
   "cell_type": "code",
   "execution_count": 14,
   "metadata": {},
   "outputs": [
    {
     "name": "stdout",
     "output_type": "stream",
     "text": [
      "Result: 1327.2243838296745\n",
      "Execution time 5.985736846923828 [ms]\n"
     ]
    }
   ],
   "source": [
    "# Antall bølge frekvenser\n",
    "a1, a2 = 1, 2\n",
    "w1, w2 = 1, 0.5\n",
    "p1, p2 = 0, 1\n",
    "\n",
    "np.random.seed(25)\n",
    "N = 100 # Number of wave components\n",
    "w = np.random.random(size=N*N)\n",
    "a = np.random.random(size=N)\n",
    "p = np.random.random(size=N*N)\n",
    "\n",
    "# Q = np.array([\n",
    "#     [0.5, 0.75],\n",
    "#     [0.75, 1]\n",
    "# ])\n",
    "# Random QTF\n",
    "Q = np.random.random(size=N*N).reshape(N, N)\n",
    "\n",
    "A = a.copy()\n",
    "\n",
    "W = np.zeros_like(Q)\n",
    "P = np.zeros_like(Q)\n",
    "for i in range(N):\n",
    "    for j in range(N):\n",
    "        W[i, j] = w[i] - w[j]\n",
    "        P[i, j] = p[i] - p[j]\n",
    "\n",
    "\n",
    "\n",
    "t = 0\n",
    "from time import time\n",
    "t1 = time()\n",
    "res = np.real(A.T@(Q*np.exp(W*(1j*t) + P))@A)\n",
    "t2 = time()\n",
    "print(f\"Result: {res}\")\n",
    "print(f\"Execution time {1000*(t2 - t1)} [ms]\")"
   ]
  },
  {
   "cell_type": "code",
   "execution_count": 15,
   "metadata": {},
   "outputs": [
    {
     "name": "stdout",
     "output_type": "stream",
     "text": [
      "Result: 1327.2243838296747\n",
      "Execution time: 54.85 [ms]\n"
     ]
    }
   ],
   "source": [
    "res = 0\n",
    "t1 = time()\n",
    "for i in range(N):\n",
    "    for j in range(N):\n",
    "        Qij = Q[i, j]\n",
    "        res += a[i]*a[j]*Qij*np.exp(1j*(w[i]-w[j])*t + (p[i] - p[j]))\n",
    "\n",
    "t2 = time()\n",
    "print(f\"Result: {np.real(res)}\")\n",
    "print(f\"Execution time: {1000*(t2 - t1):.2f} [ms]\")\n",
    "\n"
   ]
  },
  {
   "cell_type": "code",
   "execution_count": 16,
   "metadata": {},
   "outputs": [
    {
     "data": {
      "text/plain": [
       "array([[6.123234e-17, 1.000000e+00],\n",
       "       [1.000000e+00, 6.123234e-17]])"
      ]
     },
     "execution_count": 16,
     "metadata": {},
     "output_type": "execute_result"
    }
   ],
   "source": [
    "np.cos([\n",
    "    [np.pi/2, 0],\n",
    "    [0, np.pi/2]\n",
    "])"
   ]
  },
  {
   "cell_type": "code",
   "execution_count": null,
   "metadata": {},
   "outputs": [],
   "source": []
  }
 ],
 "metadata": {
  "kernelspec": {
   "display_name": "Python 3.9.2 ('wavesim')",
   "language": "python",
   "name": "python3"
  },
  "language_info": {
   "codemirror_mode": {
    "name": "ipython",
    "version": 3
   },
   "file_extension": ".py",
   "mimetype": "text/x-python",
   "name": "python",
   "nbconvert_exporter": "python",
   "pygments_lexer": "ipython3",
   "version": "3.9.2"
  },
  "orig_nbformat": 4,
  "vscode": {
   "interpreter": {
    "hash": "2853e92f8342cd3a482e458cae15ec6d2506fa2dca74b4eb9171fb68357a621f"
   }
  }
 },
 "nbformat": 4,
 "nbformat_minor": 2
}
